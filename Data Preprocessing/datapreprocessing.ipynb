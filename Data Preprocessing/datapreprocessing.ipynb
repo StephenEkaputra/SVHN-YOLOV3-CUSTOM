{
 "cells": [
  {
   "cell_type": "code",
   "execution_count": 4,
   "metadata": {},
   "outputs": [],
   "source": [
    "import h5py\n",
    "import os"
   ]
  },
  {
   "cell_type": "code",
   "execution_count": 5,
   "metadata": {},
   "outputs": [],
   "source": [
    "imgs = []\n",
    "for img_file in os.listdir('train'):\n",
    "    if img_file.endswith('.png'):\n",
    "        imgs.append(img_file)\n",
    "        \n",
    "imgs = sorted(imgs,key=lambda x: int(os.path.splitext(x)[0]))\n",
    "\n",
    "file = open(\"train.txt\",\"w\")\n",
    "for i in range(len(imgs)):\n",
    "    file.write('train/'+str(imgs[i])+'\\n') \n",
    "file.close()"
   ]
  },
  {
   "cell_type": "code",
   "execution_count": 6,
   "metadata": {},
   "outputs": [],
   "source": [
    "hdf5_data = h5py.File(\"train/digitStruct.mat\",'r')\n",
    "attrs = {}\n",
    "#len(imgs)\n",
    "for index in range(len(imgs)):\n",
    "    file = open(\"temp_train/\"+str(index+1)+\".txt\",\"w\")\n",
    "    item = hdf5_data['digitStruct']['bbox'][index].item()\n",
    "    for key in ['label', 'left', 'top', 'width', 'height']:\n",
    "        attr = hdf5_data[item][key]\n",
    "        values = [hdf5_data[attr.value[i].item()].value[0][0]\n",
    "            for i in range(len(attr))] if len(attr) > 1 else [attr.value[0][0]]\n",
    "        attrs[key] = values\n",
    "    file.write(str(len(attrs['label'])))\n",
    "    for j in range(len(attrs['label'])):\n",
    "        file.write( \"\\n\" + str(int(attrs['left'][j])) + \" \" + str(int(attrs['top'][j])) + \" \" + str(int(attrs['width'][j])) + \" \" + str(int(attrs['height'][j])) + \" \" + str(int(attrs['label'][j])) + \" \" )\n",
    "    \n",
    "file.close()"
   ]
  }
 ],
 "metadata": {
  "kernelspec": {
   "display_name": "Python 3",
   "language": "python",
   "name": "python3"
  },
  "language_info": {
   "codemirror_mode": {
    "name": "ipython",
    "version": 3
   },
   "file_extension": ".py",
   "mimetype": "text/x-python",
   "name": "python",
   "nbconvert_exporter": "python",
   "pygments_lexer": "ipython3",
   "version": "3.7.4"
  }
 },
 "nbformat": 4,
 "nbformat_minor": 2
}
